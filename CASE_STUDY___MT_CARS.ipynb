{
  "nbformat": 4,
  "nbformat_minor": 0,
  "metadata": {
    "colab": {
      "provenance": [],
      "authorship_tag": "ABX9TyMpS85ce88A0cry+lN086CK",
      "include_colab_link": true
    },
    "kernelspec": {
      "name": "python3",
      "display_name": "Python 3"
    },
    "language_info": {
      "name": "python"
    }
  },
  "cells": [
    {
      "cell_type": "markdown",
      "metadata": {
        "id": "view-in-github",
        "colab_type": "text"
      },
      "source": [
        "<a href=\"https://colab.research.google.com/github/technixh/Analytics/blob/main/CASE_STUDY___MT_CARS.ipynb\" target=\"_parent\"><img src=\"https://colab.research.google.com/assets/colab-badge.svg\" alt=\"Open In Colab\"/></a>"
      ]
    },
    {
      "cell_type": "code",
      "execution_count": null,
      "metadata": {
        "id": "GaWDj_9MsU7N"
      },
      "outputs": [],
      "source": [
        "import pandas as pd\n"
      ]
    },
    {
      "cell_type": "code",
      "source": [
        "a=pd.read_csv(\"/content/mtcars.csv\")"
      ],
      "metadata": {
        "id": "sSSPfSRxRiM3"
      },
      "execution_count": null,
      "outputs": []
    },
    {
      "cell_type": "code",
      "source": [
        "a.columns\n"
      ],
      "metadata": {
        "id": "1gE8GV_OSLAo",
        "colab": {
          "base_uri": "https://localhost:8080/"
        },
        "outputId": "6c40e0ec-a482-40ad-b028-8ec70203b54f"
      },
      "execution_count": null,
      "outputs": [
        {
          "output_type": "execute_result",
          "data": {
            "text/plain": [
              "Index(['model', 'mpg', 'cyl', 'disp', 'hp', 'drat', 'wt', 'qsec', 'vs', 'am',\n",
              "       'gear', 'carb'],\n",
              "      dtype='object')"
            ]
          },
          "metadata": {},
          "execution_count": 10
        }
      ]
    },
    {
      "cell_type": "code",
      "source": [
        "a.shape"
      ],
      "metadata": {
        "colab": {
          "base_uri": "https://localhost:8080/"
        },
        "id": "tuFaEwuHTmb0",
        "outputId": "5f5c5b74-3a5b-454b-96c3-f7260de6b398"
      },
      "execution_count": null,
      "outputs": [
        {
          "output_type": "execute_result",
          "data": {
            "text/plain": [
              "(32, 12)"
            ]
          },
          "metadata": {},
          "execution_count": 11
        }
      ]
    },
    {
      "cell_type": "code",
      "source": [
        "import matplotlib.pyplot as plt\n",
        "MPG=[21,21,22.8,21.4,18.7]\n",
        "Model=[\"Mazda RX4\",\"Mazda RX4 Wag\",\"Datsun 710\",\"Hornet4 Drive\", \"Hornet Sportabout\"]\n",
        "plt.figure(figsize=(8, 6))\n",
        "x=[\"Mazda RX4\",\"Mazda RX4 Wag\",\"Datsun 710\",\"Hornet4 Drive\", \"Hornet Sportabout\"]\n",
        "y=[21,21,22.8,21.4,18.7]\n",
        "plt.bar(x,y)\n",
        "plt.show()\n",
        "\n",
        "\n"
      ],
      "metadata": {
        "id": "gazRF8vHTqTa",
        "colab": {
          "base_uri": "https://localhost:8080/",
          "height": 522
        },
        "outputId": "89a95878-2ede-486b-8828-e62df05a368c"
      },
      "execution_count": null,
      "outputs": [
        {
          "output_type": "display_data",
          "data": {
            "text/plain": [
              "<Figure size 800x600 with 1 Axes>"
            ],
            "image/png": "[encoded data removed]"
          },
          "metadata": {}
        }
      ]
    }
  ]
}